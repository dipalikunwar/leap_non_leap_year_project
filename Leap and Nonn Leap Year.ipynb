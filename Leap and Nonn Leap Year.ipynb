{
 "cells": [
  {
   "cell_type": "markdown",
   "metadata": {},
   "source": [
    "\n",
    "<p style=\"font-size: 5em; font-weight: bold; color: red;text-align: center;\">Project #17</p>"
   ]
  },
  {
   "cell_type": "markdown",
   "metadata": {},
   "source": [
    "<div style=\"font-weight: bold; color:green; text-align: center\">\n",
    "    <p style=\"text-align: center;\"> <span style=\"font-size: 1.5em;\">Name:</span> <span style=\"color:purple; font-size: 1.7em;\">Dipali Kunwar</p>\n",
    "    <p style=\"text-align: center;\"> <span style=\"font-size: 1.5em;\">Reg. No.: </span> <span style=\"color:purple; font-size: 1.7em;\">12210828</p>\n",
    "    <p style=\"text-align: center;\"><span style=\"font-size: 1.5em;\">Roll No.: </span> <span style=\"color:purple; font-size: 1.7em;\">B53</p>\n",
    "    <p style=\"text-align: center;\"><span style=\"font-size: 1.5em;\">CA: </span> <span style=\"color:purple; font-size: 1.7em;\">1</p>\n",
    "</div>"
   ]
  },
  {
   "cell_type": "markdown",
   "metadata": {},
   "source": [
    "Your task is to create a functionality in which user will input a range of two dates. Then your module will find and print all years in the range of given dates those are leap years separatly and rest of the years those are non-leap separatly.\n",
    "\n",
    "**For Example:**\n",
    "\n",
    "Input date range in the format **dd/mm/yyyy**\n",
    "\n",
    "(12/01/2000) to (13/12/2048)\n",
    "\n",
    "**Leaps years are:**\n",
    "\n",
    "2000 2004 2008 2012 2016 2020 2024 2028 2032 2036 2040 2044 2048\n",
    "\n",
    "**Non leap yars are:**\n",
    "\n",
    "001 2002 2003 2005 2006 2007 2009 2010 2011 2013 2014 2015 2017 2018 2019 2021 2022 2023 2025 2026 2027 2029 2030 2031 2033 2034 2035 2037 2038 2039 2041 2042 2043 2045 2046 2047026 2027 2029 2030 2031 2033 2034 2035 2037 2038 2039 2041 2042 2043 2045 2046 2047\n",
    "\n",
    "***(Student is fre to decide the input and output layout for this mini project)***"
   ]
  },
  {
   "cell_type": "markdown",
   "metadata": {},
   "source": [
    "<p style=\"font-size: 4em; font-weight: bold; color: red;text-align: center;\">Solution</p>"
   ]
  },
  {
   "cell_type": "markdown",
   "metadata": {},
   "source": [
    "### Step - 1\n",
    "#### Define a function with argument as year1, year2\n",
    "```python\n",
    "def leapyear(year1, year1):\n",
    "    pass\n",
    "```"
   ]
  },
  {
   "cell_type": "markdown",
   "metadata": {},
   "source": [
    "### Step - 2\n",
    "#### Initializing an empty list for **leap year** and **non leap year**\n",
    "\n",
    "```python\n",
    "    leap_year = []\n",
    "    non_leap_year = []\n",
    "```"
   ]
  },
  {
   "cell_type": "markdown",
   "metadata": {},
   "source": [
    "### Step - 3\n",
    "Iterating through for loop from year1 to year2 \n",
    "\n",
    "checking the condtion for being a leap year\n",
    "```python\n",
    "    for i in range(n1, n2+1):\n",
    "        if(i % 4 == 0 and i % 100 != 0 or i % 400 == 0):\n",
    "            leap_year.append(i)      # appending in leap_year list\n",
    "        else:\n",
    "            non_leap_year.append(i)  # appending in non_leap_year list\n",
    "```"
   ]
  },
  {
   "cell_type": "markdown",
   "metadata": {},
   "source": [
    "### Step - 4\n",
    "#### To print leap year and non leapp year in seprate line\n",
    "- In First iteration iterating through leap_year_list to print leap years\n",
    "- In Second iterating through non_leap_year_list to print non leap years\n",
    "\n",
    "```python\n",
    "    print('leap years are: ')\n",
    "    for i in leap_year:    # iterating through list directly\n",
    "        print(i, end = ' ')\n",
    "    print()\n",
    "    print(\"non leap years are: \")\n",
    "    for j in range(len(non_leap_year)):     # iterating through list using range\n",
    "        print(non_leap_year[j], end = ' ')\n",
    "```"
   ]
  },
  {
   "cell_type": "markdown",
   "metadata": {},
   "source": [
    "### Step - 5\n",
    "#### Take input from user to pass argument in the function\n",
    "```python\n",
    "d1 = [int(x) for x in input(\"Enter date1 as dd/mm/yyyy: \").split('/')]\n",
    "n1 = d1[2]    # taking year for argument1 in function\n",
    "d2 = [int(x) for x in input(\"Enter date2 as dd/mm/yyyy: \").split('/')]\n",
    "n2 = d2[2]    # taking year for argument2 in function\n",
    "```"
   ]
  },
  {
   "cell_type": "markdown",
   "metadata": {},
   "source": [
    "#### Here is some special functionalties to input from user:\n",
    "- if year of date 1 greater than date 2 then:\n",
    "\n",
    "Swap the values using swap two number\n",
    "```python\n",
    "if n1 > n2:   \n",
    "    n1, n2 = n2, n1\n",
    "```"
   ]
  },
  {
   "cell_type": "markdown",
   "metadata": {},
   "source": [
    "### Step 6\n",
    "#### Calling the above function and pass given parameters\n",
    "```python\n",
    "leapyear(n1, n2)\n",
    "```"
   ]
  },
  {
   "cell_type": "markdown",
   "metadata": {},
   "source": [
    "### Full Code without using any in-built module"
   ]
  },
  {
   "cell_type": "code",
   "execution_count": 11,
   "metadata": {},
   "outputs": [
    {
     "name": "stdout",
     "output_type": "stream",
     "text": [
      "Start Date: [1, 1, 2000]\n",
      "End Date: [13, 12, 2048]\n",
      "leap years are: \n",
      "2000 2004 2008 2012 2016 2020 2024 2028 2032 2036 2040 2044 2048 \n",
      "non leap years are: \n",
      "2001 2002 2003 2005 2006 2007 2009 2010 2011 2013 2014 2015 2017 2018 2019 2021 2022 2023 2025 2026 2027 2029 2030 2031 2033 2034 2035 2037 2038 2039 2041 2042 2043 2045 2046 2047 "
     ]
    }
   ],
   "source": [
    "# define a function with argument as year1, year2\n",
    "def leapyear(n1,n2):\n",
    "\n",
    "    leap_year = []       \n",
    "    non_leap_year = []\n",
    "    for i in range(n1, n2+1):\n",
    "\n",
    "        # condition for being a leap year\n",
    "        if(i % 4 == 0 and i % 100 != 0 or i % 400 == 0):\n",
    "            leap_year.append(i)\n",
    "        else:\n",
    "            non_leap_year.append(i)\n",
    "    \n",
    "    print('leap years are: ')\n",
    "    for i in leap_year:    # iterating through list directly\n",
    "        print(i, end = ' ')\n",
    "    print()   # to print a new line between leap years and non leap years\n",
    "\n",
    "    print(\"non leap years are: \")\n",
    "    for j in range(len(non_leap_year)):     # iterating through list using range\n",
    "        print(non_leap_year[j], end = ' ')\n",
    "\n",
    "d1 = [int(x) for x in input(\"Enter date1 as dd/mm/yyyy: \").split('/')]\n",
    "n1 = d1[2]    # taking year for argument1 in function\n",
    "d2 = [int(x) for x in input(\"Enter date2 as dd/mm/yyyy: \").split('/')]\n",
    "n2 = d2[2]    # taking year for argument2 in function\n",
    "print(f'Start Date: {d1}')\n",
    "print(f'End Date: {d2}')\n",
    "if n1 > n2:   \n",
    "    n1, n2 = n2, n1\n",
    "leapyear(n1, n2)   # calling function"
   ]
  },
  {
   "cell_type": "markdown",
   "metadata": {},
   "source": [
    "### Full Code using the in-built module **datetimee**"
   ]
  },
  {
   "cell_type": "code",
   "execution_count": 10,
   "metadata": {},
   "outputs": [
    {
     "name": "stdout",
     "output_type": "stream",
     "text": [
      "Start Date: 2000-01-01 00:00:00\n",
      "End Date: 2048-12-13 00:00:00\n",
      "leap years are: \n",
      "2000 2004 2008 2012 2016 2020 2024 2028 2032 2036 2040 2044 2048 \n",
      "non leap years are: \n",
      "2001 2002 2003 2005 2006 2007 2009 2010 2011 2013 2014 2015 2017 2018 2019 2021 2022 2023 2025 2026 2027 2029 2030 2031 2033 2034 2035 2037 2038 2039 2041 2042 2043 2045 2046 2047 "
     ]
    }
   ],
   "source": [
    "### import module\n",
    "from datetime import datetime\n",
    "\n",
    "# define a function with argument as year1, year2\n",
    "def leapyear(n1,n2):\n",
    "\n",
    "    leap_year = []       # initializing an empty list for leap year\n",
    "    non_leap_year = []   # initializing an empty list for non leap year\n",
    "\n",
    "    # iterating through for loop from year1 to year2\n",
    "    for i in range(n1, n2+1):\n",
    "\n",
    "        # condition for being a leap year\n",
    "        if(i % 4 == 0 and i % 100 != 0 or i % 400 == 0):\n",
    "            leap_year.append(i)      # appending in leap_year list\n",
    "        else:\n",
    "            non_leap_year.append(i)  # appending in non_leap_year list\n",
    "    \n",
    "    print('leap years are: ')\n",
    "    # iterating through leap_year_list to print leap years\n",
    "    for i in leap_year:    # iterating through list directly\n",
    "        print(i, end = ' ')\n",
    "\n",
    "    print()   # to print a new line between leap years and non leap years\n",
    "\n",
    "    print(\"non leap years are: \")\n",
    "    # iterating through leap_year_list to print non leap years\n",
    "    for j in range(len(non_leap_year)):     # iterating through list using range\n",
    "        print(non_leap_year[j], end = ' ')\n",
    "\n",
    "d1 = input('Enter date1 as dd-mm-yyyy: ')\n",
    "d2 = input('Enter date2 as dd-mm-yyyy: ')\n",
    "\n",
    "date1 = datetime.strptime(d1, \"%d-%m-%Y\")\n",
    "date2 = datetime.strptime(d2, \"%d-%m-%Y\")\n",
    "print(f'Start Date: {date1}')\n",
    "print(f'End Date: {date2}')\n",
    "year1 = date1.year\n",
    "year2 = date2.year\n",
    "\n",
    "# if year of date 1 greater than date 2 then swap the year\n",
    "if year1 > year2:   \n",
    "    year1, year2 = year2, year1\n",
    "leapyear(year1, year2)   # calling function"
   ]
  }
 ],
 "metadata": {
  "kernelspec": {
   "display_name": "Python 3.11.0 64-bit",
   "language": "python",
   "name": "python3"
  },
  "language_info": {
   "codemirror_mode": {
    "name": "ipython",
    "version": 3
   },
   "file_extension": ".py",
   "mimetype": "text/x-python",
   "name": "python",
   "nbconvert_exporter": "python",
   "pygments_lexer": "ipython3",
   "version": "3.11.0"
  },
  "orig_nbformat": 4,
  "vscode": {
   "interpreter": {
    "hash": "cfebaf9e48837dc440118a5254a217b2fe7848380d0f089486e02fcdd00d89a2"
   }
  }
 },
 "nbformat": 4,
 "nbformat_minor": 2
}
